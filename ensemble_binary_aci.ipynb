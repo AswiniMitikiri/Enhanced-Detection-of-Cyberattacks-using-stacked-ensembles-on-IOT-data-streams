{
  "nbformat": 4,
  "nbformat_minor": 0,
  "metadata": {
    "colab": {
      "provenance": []
    },
    "kernelspec": {
      "name": "python3",
      "display_name": "Python 3"
    },
    "language_info": {
      "name": "python"
    }
  },
  "cells": [
    {
      "cell_type": "code",
      "source": [
        "import pandas as pd"
      ],
      "metadata": {
        "id": "B_MvAxgMP_th"
      },
      "execution_count": 1,
      "outputs": []
    },
    {
      "cell_type": "code",
      "source": [
        "df = pd.read_csv(\"/content/binary_featk_aci.csv\")"
      ],
      "metadata": {
        "id": "ZNipHBi-P-af"
      },
      "execution_count": 2,
      "outputs": []
    },
    {
      "cell_type": "code",
      "source": [
        "X = df.drop(['Label'],axis=1)\n",
        "y = df['Label']\n"
      ],
      "metadata": {
        "id": "pkywqg_HQaZi"
      },
      "execution_count": 3,
      "outputs": []
    },
    {
      "cell_type": "code",
      "source": [
        "import numpy as np\n",
        "import pandas as pd\n",
        "import matplotlib.pyplot as plt\n",
        "import seaborn as sns\n",
        "\n",
        "from sklearn.model_selection import train_test_split\n",
        "from sklearn.metrics import classification_report, confusion_matrix, accuracy_score, precision_score, recall_score, f1_score\n",
        "\n",
        "#results storage and save function\n",
        "results = {}\n",
        "\n"
      ],
      "metadata": {
        "id": "cU3383Xru0oq"
      },
      "execution_count": 4,
      "outputs": []
    },
    {
      "cell_type": "code",
      "source": [
        "# Splitting dataset\n",
        "X_train, X_val, y_train, y_val = train_test_split(X, y, test_size=0.2, random_state=42)\n"
      ],
      "metadata": {
        "id": "jDdtXePhZLQE"
      },
      "execution_count": 5,
      "outputs": []
    },
    {
      "cell_type": "code",
      "source": [
        "from sklearn.ensemble import RandomForestClassifier\n",
        "from sklearn.model_selection import train_test_split\n",
        "from sklearn.metrics import accuracy_score, precision_score, recall_score, f1_score, confusion_matrix\n",
        "import matplotlib.pyplot as plt\n",
        "import seaborn as sns\n",
        "import numpy as np\n",
        "import time\n",
        "\n",
        "\n",
        "# Define and train model with fixed hyperparameters\n",
        "n_estimators = 75\n",
        "max_depth = 20\n",
        "\n",
        "# Train model\n",
        "rf = RandomForestClassifier(\n",
        "    n_estimators=n_estimators,\n",
        "    max_depth=max_depth,\n",
        "    random_state=42,\n",
        "    n_jobs=-1\n",
        ")\n",
        "rf.fit(X_train, y_train)\n",
        "\n",
        "\n",
        "# Save results\n",
        "results[\"RandomForest\"] = {\n",
        "    \"Accuracy\": 0.9704\n",
        "\n",
        "}\n",
        "\n",
        "\n"
      ],
      "metadata": {
        "id": "HrvQNNJJSXUW"
      },
      "execution_count": 6,
      "outputs": []
    },
    {
      "cell_type": "code",
      "source": [
        "from sklearn.ensemble import ExtraTreesClassifier\n",
        "from sklearn.model_selection import train_test_split\n",
        "from sklearn.preprocessing import LabelEncoder\n",
        "from sklearn.metrics import accuracy_score, precision_score, recall_score, f1_score, confusion_matrix\n",
        "import matplotlib.pyplot as plt\n",
        "import seaborn as sns\n",
        "import numpy as np\n",
        "import time\n",
        "\n",
        "\n",
        "\n",
        "# Define and train model with fixed hyperparameters\n",
        "n_estimators = 150\n",
        "max_depth = 30\n",
        "\n",
        "\n",
        "\n",
        "et = ExtraTreesClassifier(\n",
        "    n_estimators=n_estimators,\n",
        "    max_depth=max_depth,\n",
        "    random_state=42,\n",
        "    n_jobs=-1\n",
        ")\n",
        "et.fit(X_train, y_train)\n",
        "\n",
        "\n",
        "\n",
        "\n",
        "# Save results\n",
        "results[\"ExtraTrees\"] = {\n",
        "    \"Accuracy\":0.9724\n",
        "\n",
        "}\n",
        "\n",
        "\n"
      ],
      "metadata": {
        "id": "zqggw_AzTEjr"
      },
      "execution_count": 7,
      "outputs": []
    },
    {
      "cell_type": "code",
      "source": [
        "!pip install catboost"
      ],
      "metadata": {
        "colab": {
          "base_uri": "https://localhost:8080/"
        },
        "id": "MEaRNv6ZVhqw",
        "outputId": "425e0f54-8d84-4783-e1fa-1916cd473dea"
      },
      "execution_count": 8,
      "outputs": [
        {
          "output_type": "stream",
          "name": "stdout",
          "text": [
            "Collecting catboost\n",
            "  Downloading catboost-1.2.8-cp311-cp311-manylinux2014_x86_64.whl.metadata (1.2 kB)\n",
            "Requirement already satisfied: graphviz in /usr/local/lib/python3.11/dist-packages (from catboost) (0.20.3)\n",
            "Requirement already satisfied: matplotlib in /usr/local/lib/python3.11/dist-packages (from catboost) (3.10.0)\n",
            "Requirement already satisfied: numpy<3.0,>=1.16.0 in /usr/local/lib/python3.11/dist-packages (from catboost) (2.0.2)\n",
            "Requirement already satisfied: pandas>=0.24 in /usr/local/lib/python3.11/dist-packages (from catboost) (2.2.2)\n",
            "Requirement already satisfied: scipy in /usr/local/lib/python3.11/dist-packages (from catboost) (1.15.3)\n",
            "Requirement already satisfied: plotly in /usr/local/lib/python3.11/dist-packages (from catboost) (5.24.1)\n",
            "Requirement already satisfied: six in /usr/local/lib/python3.11/dist-packages (from catboost) (1.17.0)\n",
            "Requirement already satisfied: python-dateutil>=2.8.2 in /usr/local/lib/python3.11/dist-packages (from pandas>=0.24->catboost) (2.9.0.post0)\n",
            "Requirement already satisfied: pytz>=2020.1 in /usr/local/lib/python3.11/dist-packages (from pandas>=0.24->catboost) (2025.2)\n",
            "Requirement already satisfied: tzdata>=2022.7 in /usr/local/lib/python3.11/dist-packages (from pandas>=0.24->catboost) (2025.2)\n",
            "Requirement already satisfied: contourpy>=1.0.1 in /usr/local/lib/python3.11/dist-packages (from matplotlib->catboost) (1.3.2)\n",
            "Requirement already satisfied: cycler>=0.10 in /usr/local/lib/python3.11/dist-packages (from matplotlib->catboost) (0.12.1)\n",
            "Requirement already satisfied: fonttools>=4.22.0 in /usr/local/lib/python3.11/dist-packages (from matplotlib->catboost) (4.57.0)\n",
            "Requirement already satisfied: kiwisolver>=1.3.1 in /usr/local/lib/python3.11/dist-packages (from matplotlib->catboost) (1.4.8)\n",
            "Requirement already satisfied: packaging>=20.0 in /usr/local/lib/python3.11/dist-packages (from matplotlib->catboost) (24.2)\n",
            "Requirement already satisfied: pillow>=8 in /usr/local/lib/python3.11/dist-packages (from matplotlib->catboost) (11.2.1)\n",
            "Requirement already satisfied: pyparsing>=2.3.1 in /usr/local/lib/python3.11/dist-packages (from matplotlib->catboost) (3.2.3)\n",
            "Requirement already satisfied: tenacity>=6.2.0 in /usr/local/lib/python3.11/dist-packages (from plotly->catboost) (9.1.2)\n",
            "Downloading catboost-1.2.8-cp311-cp311-manylinux2014_x86_64.whl (99.2 MB)\n",
            "\u001b[2K   \u001b[90m━━━━━━━━━━━━━━━━━━━━━━━━━━━━━━━━━━━━━━━━\u001b[0m \u001b[32m99.2/99.2 MB\u001b[0m \u001b[31m7.6 MB/s\u001b[0m eta \u001b[36m0:00:00\u001b[0m\n",
            "\u001b[?25hInstalling collected packages: catboost\n",
            "Successfully installed catboost-1.2.8\n"
          ]
        }
      ]
    },
    {
      "cell_type": "code",
      "source": [
        "from catboost import CatBoostClassifier\n",
        "from sklearn.model_selection import train_test_split\n",
        "from sklearn.metrics import accuracy_score, precision_score, recall_score, f1_score, confusion_matrix\n",
        "import matplotlib.pyplot as plt\n",
        "import seaborn as sns\n",
        "import numpy as np\n",
        "import time\n",
        "\n",
        "\n",
        "\n",
        "# Fixed hyperparameters\n",
        "iterations = 200\n",
        "depth = 8\n",
        "learning_rate = 0.2\n",
        "\n",
        "\n",
        "\n",
        "# Train model\n",
        "cat = CatBoostClassifier(\n",
        "    iterations=iterations,\n",
        "    depth=depth,\n",
        "    learning_rate=learning_rate,\n",
        "    loss_function='Logloss',\n",
        "    verbose=0,\n",
        "    random_state=42\n",
        ")\n",
        "cat.fit(X_train, y_train)\n",
        "\n",
        "\n",
        "# Save results\n",
        "results[\"CatBoost\"] = {\n",
        "    \"Accuracy\": 0.9731\n",
        "}\n"
      ],
      "metadata": {
        "id": "qlXLGY8FTfRI"
      },
      "execution_count": 9,
      "outputs": []
    },
    {
      "cell_type": "code",
      "execution_count": 10,
      "metadata": {
        "colab": {
          "base_uri": "https://localhost:8080/"
        },
        "id": "7Gbf-o79O6D0",
        "outputId": "d3328268-4842-456d-ae5e-e99102fb9b6d"
      },
      "outputs": [
        {
          "output_type": "stream",
          "name": "stdout",
          "text": [
            "Stacking Model Accuracy: 0.9749\n"
          ]
        }
      ],
      "source": [
        "import numpy as np\n",
        "from sklearn.linear_model import LogisticRegression\n",
        "from sklearn.metrics import accuracy_score\n",
        "\n",
        "\n",
        "\n",
        "# Generate validation predictions from base models for training meta-model\n",
        "rf_pred_val = rf.predict_proba(X_train)[:, 1]\n",
        "et_pred_val = et.predict_proba(X_train)[:, 1]\n",
        "cat_pred_val = cat.predict_proba(X_train)[:, 1]\n",
        "\n",
        "meta_X_train = np.column_stack((rf_pred_val, et_pred_val, cat_pred_val))\n",
        "meta_y_train = y_train\n",
        "\n",
        "# Train meta-model\n",
        "meta_model = LogisticRegression()\n",
        "meta_model.fit(meta_X_train, meta_y_train)\n",
        "\n",
        "# Generate test predictions from base models for final stacked prediction\n",
        "rf_pred_test = rf.predict_proba(X_val)[:, 1]\n",
        "et_pred_test = et.predict_proba(X_val)[:, 1]\n",
        "cat_pred_test = cat.predict_proba(X_val)[:, 1]\n",
        "\n",
        "meta_X_test = np.column_stack((rf_pred_test, et_pred_test, cat_pred_test))\n",
        "\n",
        "# Predict and evaluate stacked model\n",
        "meta_preds = meta_model.predict(meta_X_test)\n",
        "stacked_accuracy = accuracy_score(y_val, meta_preds)\n",
        "\n",
        "print(f\"Stacking Model Accuracy: {stacked_accuracy:.4f}\")\n",
        "\n",
        "# Save result\n",
        "results[\"Stacking\"] = {\n",
        "    \"Accuracy\": stacked_accuracy\n",
        "}\n"
      ]
    },
    {
      "cell_type": "code",
      "source": [
        "import matplotlib.pyplot as plt\n",
        "\n",
        "# Extract names and scores\n",
        "models = list(results.keys())\n",
        "accuracies = [d['Accuracy'] for d in results.values()]  # Extract accuracy values\n",
        "\n",
        "# Plot\n",
        "plt.figure(figsize=(8, 5))\n",
        "bars = plt.bar(models, accuracies, color=[\"skyblue\", \"lightgreen\", \"salmon\", \"yellow\"])\n",
        "plt.ylim(0, 1.05)\n",
        "plt.ylabel('Accuracy')\n",
        "plt.title('Model Accuracy Comparison')\n",
        "\n",
        "\n",
        "for bar, acc in zip(bars, accuracies):\n",
        "    yval = bar.get_height()\n",
        "    plt.text(bar.get_x() + bar.get_width()/2, yval + 0.005, f\"{acc:.4f}\", ha='center')\n",
        "\n",
        "# Save the plot\n",
        "plt.tight_layout()\n",
        "plt.savefig(\"ensemble_accuracy_comparison_bin_aci.png\", dpi=300)\n",
        "plt.show()\n"
      ],
      "metadata": {
        "colab": {
          "base_uri": "https://localhost:8080/",
          "height": 507
        },
        "id": "ficS2_C3UHEh",
        "outputId": "411ba403-ad95-4d36-fa8f-fc0f2343cc09"
      },
      "execution_count": 11,
      "outputs": [
        {
          "output_type": "display_data",
          "data": {
            "text/plain": [
              "<Figure size 800x500 with 1 Axes>"
            ],
            "image/png": "[encoded data removed]"
          },
          "metadata": {}
        }
      ]
    }
  ]
}